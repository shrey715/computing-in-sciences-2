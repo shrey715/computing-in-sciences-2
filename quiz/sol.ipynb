{
 "cells": [
  {
   "cell_type": "code",
   "execution_count": 4,
   "metadata": {},
   "outputs": [
    {
     "name": "stdout",
     "output_type": "stream",
     "text": [
      "Populating the interactive namespace from numpy and matplotlib\n"
     ]
    }
   ],
   "source": [
    "%pylab inline\n",
    "import re"
   ]
  },
  {
   "cell_type": "code",
   "execution_count": 6,
   "metadata": {},
   "outputs": [],
   "source": [
    "string=\"H 2 + O 2 = H 2 O\""
   ]
  },
  {
   "cell_type": "markdown",
   "metadata": {},
   "source": [
    "# 1st"
   ]
  },
  {
   "cell_type": "code",
   "execution_count": 7,
   "metadata": {
    "scrolled": true
   },
   "outputs": [
    {
     "name": "stdout",
     "output_type": "stream",
     "text": [
      "{'H', 'O'}\n"
     ]
    }
   ],
   "source": [
    "atomList = set(re.split('[ 0-9+=]+',string))\n",
    "print(atomList)"
   ]
  },
  {
   "cell_type": "markdown",
   "metadata": {},
   "source": [
    "# 2nd"
   ]
  },
  {
   "cell_type": "code",
   "execution_count": 10,
   "metadata": {},
   "outputs": [
    {
     "name": "stdout",
     "output_type": "stream",
     "text": [
      "H 2 + O 2 \n",
      " H 2 O\n"
     ]
    }
   ],
   "source": [
    "[reactants, products] = (re.split('=',string))\n",
    "print(reactants)\n",
    "print(products)"
   ]
  },
  {
   "cell_type": "markdown",
   "metadata": {},
   "source": [
    "# 3rd"
   ]
  },
  {
   "cell_type": "code",
   "execution_count": 90,
   "metadata": {},
   "outputs": [],
   "source": [
    "def chemical_composition_vector( input, atomList ):\n",
    "    out = [0]*len(atomList)\n",
    "    c=list(filter(None,(re.split(' ',input))))\n",
    "#     print(\"c = \", c)\n",
    "    for i in range(len(c)):\n",
    "#         print(\"c[i] = \", c[i])\n",
    "        if(c[i].isdigit() or c[i]==\" \" ):\n",
    "            continue\n",
    "        else:\n",
    "            j = 0\n",
    "            for z in atomList:\n",
    "                if( z == c[i] ):\n",
    "                    break\n",
    "                else:\n",
    "                    j += 1\n",
    "#             print(\"j = \", j)\n",
    "            if( (i+1)<len(c) ):\n",
    "                if c[i+1].isdigit() :\n",
    "                    out[j] = int(c[i+1])\n",
    "            else:\n",
    "                out[j] = 1\n",
    "    return out"
   ]
  },
  {
   "cell_type": "code",
   "execution_count": 91,
   "metadata": {},
   "outputs": [
    {
     "data": {
      "text/plain": [
       "[2, 1]"
      ]
     },
     "execution_count": 91,
     "metadata": {},
     "output_type": "execute_result"
    }
   ],
   "source": [
    "chemical_composition_vector(\"H 2 O\", atomList)"
   ]
  },
  {
   "cell_type": "code",
   "execution_count": 92,
   "metadata": {},
   "outputs": [],
   "source": [
    "# given by sir\n",
    "def get_chemicalVector(chemical, atomList):\n",
    "    print('chemical is', chemical)\n",
    "    c = list(filter(None,(re.split(' ',chemical))))\n",
    "    c_size = len(c)\n",
    "    c_idx = 0\n",
    "    c_dict = {}\n",
    "    print('c= ',c,' c_size=',c_size)\n",
    "   \n",
    "    while c_idx < c_size:\n",
    "        c1 = c[c_idx]\n",
    "        print('atom is: ',c1)\n",
    "        if (c1 in atomList): # check if atom is in the atomList\n",
    "            if ( c_idx  == c_size -1):\n",
    "                num = 1\n",
    "                c_idx += 1\n",
    "            elif  ( c[c_idx +1] in atomList ):\n",
    "                num = 1\n",
    "                c_idx += 1\n",
    "            elif ( (c[c_idx +1 ]).isdigit() ):\n",
    "                num = int( c[c_idx+1])\n",
    "                c_idx += 2\n",
    "            c_dict[c1] = num\n",
    "            print('chemical ',c1, c_dict, 'c_idx=',c_idx)\n",
    "        else:\n",
    "            return \"ERROR\"\n",
    "   \n",
    "    c_vec = np.zeros( (len(atomList),) )\n",
    "    for c1 in c_dict.keys():\n",
    "        c_vec[ atomList.index(c1) ] = c_dict[c1]\n",
    "    print(\"chemical \", chemical,\" c_vec \", c_vec)\n",
    "    return c_vec"
   ]
  },
  {
   "cell_type": "markdown",
   "metadata": {},
   "source": [
    "# Find solutions using Ax = 0"
   ]
  },
  {
   "cell_type": "code",
   "execution_count": 99,
   "metadata": {},
   "outputs": [
    {
     "name": "stdout",
     "output_type": "stream",
     "text": [
      "[2, 0]\n",
      "[0, 1]\n",
      "[2, 0]\n"
     ]
    }
   ],
   "source": [
    "print(chemical_composition_vector(\"H 2\", atomList))\n",
    "print(chemical_composition_vector(\"O\", atomList))\n",
    "print(chemical_composition_vector(\"H 2 0\", atomList))"
   ]
  },
  {
   "cell_type": "code",
   "execution_count": 115,
   "metadata": {},
   "outputs": [],
   "source": [
    "# so we can set A as\n",
    "A = np.array([[0, 2, 1], [2, 0, 2]])\n",
    "null_vec = np.array([0, 0])"
   ]
  },
  {
   "cell_type": "code",
   "execution_count": 117,
   "metadata": {},
   "outputs": [
    {
     "name": "stdout",
     "output_type": "stream",
     "text": [
      "[[0 2 1]\n",
      " [2 0 2]]\n"
     ]
    }
   ],
   "source": [
    "print(A)"
   ]
  },
  {
   "cell_type": "code",
   "execution_count": 135,
   "metadata": {},
   "outputs": [],
   "source": [
    "r1, r2, p1 = np.linalg.lstsq(A, null_vec,  rcond=None)[0]"
   ]
  },
  {
   "cell_type": "code",
   "execution_count": 136,
   "metadata": {},
   "outputs": [
    {
     "name": "stdout",
     "output_type": "stream",
     "text": [
      "r1 =  0.0\n",
      "r2 =  0.0\n",
      "p1 =  0.0\n"
     ]
    }
   ],
   "source": [
    "print(\"r1 = \", r1)\n",
    "print(\"r2 = \", r2)\n",
    "print(\"p1 = \", p1)"
   ]
  },
  {
   "cell_type": "raw",
   "metadata": {},
   "source": [
    "This is the trivial solution and is not of much use"
   ]
  },
  {
   "cell_type": "code",
   "execution_count": 154,
   "metadata": {},
   "outputs": [],
   "source": [
    "# instead of this let's make sure we get 1 molecule of water\n",
    "R = [[0, 2], [2, 0]]\n",
    "p = [1, 2]\n",
    "p1 = 1"
   ]
  },
  {
   "cell_type": "code",
   "execution_count": 155,
   "metadata": {},
   "outputs": [],
   "source": [
    "r1, r2 = np.linalg.solve(R, p)"
   ]
  },
  {
   "cell_type": "code",
   "execution_count": 156,
   "metadata": {},
   "outputs": [
    {
     "name": "stdout",
     "output_type": "stream",
     "text": [
      "r1 =  1.0\n",
      "r2 =  0.5\n"
     ]
    }
   ],
   "source": [
    "print(\"r1 = \", r1)\n",
    "print(\"r2 = \", r2)"
   ]
  },
  {
   "cell_type": "code",
   "execution_count": 157,
   "metadata": {},
   "outputs": [],
   "source": [
    "# r1 is for H\n",
    "# r2 is for O\n",
    "# multiply by 2 for integer values\n",
    "r1, r2, p1 = 2*r1, 2*r2, 2*p1"
   ]
  },
  {
   "cell_type": "code",
   "execution_count": 158,
   "metadata": {},
   "outputs": [
    {
     "name": "stdout",
     "output_type": "stream",
     "text": [
      "coeff of H2 =  2.0\n",
      "coeff of O2 =  1.0\n",
      "coeff of H2 =  2\n"
     ]
    }
   ],
   "source": [
    "print(\"coeff of H2 = \", r1)\n",
    "print(\"coeff of O2 = \", r2)\n",
    "print(\"coeff of H2 = \", p1)"
   ]
  }
 ],
 "metadata": {
  "kernelspec": {
   "display_name": "Python 3",
   "language": "python",
   "name": "python3"
  },
  "language_info": {
   "codemirror_mode": {
    "name": "ipython",
    "version": 3
   },
   "file_extension": ".py",
   "mimetype": "text/x-python",
   "name": "python",
   "nbconvert_exporter": "python",
   "pygments_lexer": "ipython3",
   "version": "3.6.9"
  }
 },
 "nbformat": 4,
 "nbformat_minor": 4
}
