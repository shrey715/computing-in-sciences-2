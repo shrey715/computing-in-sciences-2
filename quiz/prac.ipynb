{
 "cells": [
  {
   "cell_type": "markdown",
   "metadata": {},
   "source": [
    "Given input , return the balanced equation.\n",
    "Eample input string: ” K Mn O 4 + H 2 O 2 = Mn O 2 + H 2 O + O 2 + K O H ”. Assume input\n",
    "has spaces separating every element name and numbers as shown, also for ‘+’ and ‘=’.\n",
    "Example output: ” 2 K Mn O 4 + 3 H 2 O 2 = 2 Mn O 2 + 2 H 2 O + 3 O 2 + 2 K O H ” and ” [\n",
    "-2,- 3, 2, 3, 3, 2 ]”, i.e. output string for balanced chemical equation and the vector of stochiometric\n",
    "coefficients with negative values for reactants.\n",
    "HINT: (a) For the above reaction, atomList is ’K’, ’Mn’, ’O’, ’H’\n",
    "(b) chemVectors for ‘ K Mn O 4’ is [1,1,4,0] and ’ K O H ’ is [1,0,1,1]\n",
    "(c) construct matrix equation for chemical equation.\n",
    "1"
   ]
  },
  {
   "cell_type": "code",
   "execution_count": 100,
   "metadata": {},
   "outputs": [],
   "source": [
    "import numpy as np"
   ]
  },
  {
   "cell_type": "code",
   "execution_count": 101,
   "metadata": {},
   "outputs": [],
   "source": [
    "# equation = \"K Mn O 4 + H 2 O 2 = Mn O 2 + O 2 + K O H + H 2 O\"\n",
    "# equation = \"Al + Fe 2 O 3 = Al 2 O 3 + Fe\"\n",
    "# equation = \"H 2 + O 2 = H 2 O\"\n",
    "# equation = \"H 2 + Cl 2 = H Cl\"\n",
    "# equation = \" P 4 + Na O H + H 2 O = Na H 2 P O 2 + P H 3\"\n",
    "equation = \"Cu + H N O 3 = Cu N 2 O 6 + N O + H 2 O\""
   ]
  },
  {
   "cell_type": "code",
   "execution_count": 102,
   "metadata": {},
   "outputs": [
    {
     "name": "stdout",
     "output_type": "stream",
     "text": [
      "['Cu' 'H' 'N' 'O']\n",
      "[[ 1  0 -1  0  0]\n",
      " [ 0  1  0  0 -2]\n",
      " [ 0  1 -2 -1  0]\n",
      " [ 0  3 -6 -1 -1]]\n"
     ]
    }
   ],
   "source": [
    "import re\n",
    "import numpy as np\n",
    "import scipy.linalg as la\n",
    "\n",
    "def findUniqueElements(equation):\n",
    "    return np.unique(elementName.findall(equation))\n",
    "\n",
    "elementPattern = re.compile(r'[A-Z]{1}[a-z]{0,}[0-9]*')\n",
    "elementName = re.compile(r'[A-Z]{1}[a-z]{0,}')\n",
    "elementNumber = re.compile(r'[0-9]{1,}')\n",
    "\n",
    "def getColumnVector(element, elementVectors): #returns vector containing number of atoms of each element in compound\n",
    "    elementVector = np.zeros(len(elementVectors))\n",
    "    elements = elementPattern.findall(element)\n",
    "    for element in elements:\n",
    "        # print(element)\n",
    "        name = elementName.match(element).group()\n",
    "        number = elementNumber.search(element)\n",
    "        if number:\n",
    "            number = int(number.group())\n",
    "        else:\n",
    "            number = 1\n",
    "        elementVector[np.where(elementVectors == name)[0][0]] = number\n",
    "    return elementVector\n",
    "\n",
    "elementVectors = findUniqueElements(equation)\n",
    "print(elementVectors)\n",
    "\n",
    "def getEquationMatrix(equation, elementVectors):\n",
    "    equation = equation.replace(' ', '')\n",
    "    reactants, products = equation.split('=')\n",
    "    reactants = reactants.split('+')\n",
    "    products = products.split('+')\n",
    "\n",
    "    reactantMatrix = np.zeros((len(elementVectors), len(reactants)), dtype=int)\n",
    "    productMatrix = np.zeros((len(elementVectors), len(products)), dtype=int)\n",
    "\n",
    "    for i, reactant in enumerate(reactants):\n",
    "        reactantMatrix[:, i] = getColumnVector(reactant, elementVectors)\n",
    "    for i, product in enumerate(products):\n",
    "        productMatrix[:, i] = getColumnVector(product, elementVectors)\n",
    "    \n",
    "    productMatrix *= -1  # Multiply product matrix by -1\n",
    "\n",
    "    # Join reactant and product matrices\n",
    "    equationMatrix = np.hstack((reactantMatrix, productMatrix))\n",
    "\n",
    "    return equationMatrix\n",
    "\n",
    "equationMatrix = getEquationMatrix(equation, elementVectors)\n",
    "print(equationMatrix)"
   ]
  },
  {
   "cell_type": "code",
   "execution_count": 103,
   "metadata": {},
   "outputs": [
    {
     "name": "stdout",
     "output_type": "stream",
     "text": [
      "[[0.29704426]\n",
      " [0.79211803]\n",
      " [0.29704426]\n",
      " [0.19802951]\n",
      " [0.39605902]]\n",
      "[[1.5]\n",
      " [4. ]\n",
      " [1.5]\n",
      " [1. ]\n",
      " [2. ]]\n"
     ]
    }
   ],
   "source": [
    "# solve the system\n",
    "# get it to RREF \n",
    "# get the solution\n",
    "\n",
    "nullspace = la.null_space(equationMatrix)\n",
    "print(nullspace)\n",
    "\n",
    "# get the smallest integer solution\n",
    "solution = nullspace / nullspace.min()\n",
    "\n",
    "print(solution)"
   ]
  },
  {
   "cell_type": "code",
   "execution_count": 104,
   "metadata": {},
   "outputs": [
    {
     "name": "stdout",
     "output_type": "stream",
     "text": [
      "2 Cu + 4 HNO3 = 2 CuN2O6 + 1 NO + 2 H2O\n"
     ]
    }
   ],
   "source": [
    "# apply the coefficients to the equation\n",
    "\n",
    "def applyCoefficients(equation, solution):\n",
    "    equation = equation.replace(' ', '')\n",
    "    reactants, products = equation.split('=')\n",
    "    reactants = reactants.split('+')\n",
    "    products = products.split('+')\n",
    "\n",
    "    reactants = [f\"{i[0]} {reactant}\" for i, reactant in zip(solution[:len(reactants)], reactants)]\n",
    "    products = [f\"{i[0]} {product}\" for i, product in zip(solution[len(reactants):], products)]\n",
    "\n",
    "    return ' + '.join(reactants) + ' = ' + ' + '.join(products)\n",
    "\n",
    "print(applyCoefficients(equation, solution))"
   ]
  }
 ],
 "metadata": {
  "kernelspec": {
   "display_name": ".venv",
   "language": "python",
   "name": "python3"
  },
  "language_info": {
   "codemirror_mode": {
    "name": "ipython",
    "version": 3
   },
   "file_extension": ".py",
   "mimetype": "text/x-python",
   "name": "python",
   "nbconvert_exporter": "python",
   "pygments_lexer": "ipython3",
   "version": "3.12.2"
  }
 },
 "nbformat": 4,
 "nbformat_minor": 2
}
