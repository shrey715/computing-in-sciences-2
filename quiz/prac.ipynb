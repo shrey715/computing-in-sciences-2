{
 "cells": [
  {
   "cell_type": "markdown",
   "metadata": {},
   "source": [
    "Given input , return the balanced equation.\n",
    "Eample input string: ” K Mn O 4 + H 2 O 2 = Mn O 2 + H 2 O + O 2 + K O H ”. Assume input\n",
    "has spaces separating every element name and numbers as shown, also for ‘+’ and ‘=’.\n",
    "Example output: ” 2 K Mn O 4 + 3 H 2 O 2 = 2 Mn O 2 + 2 H 2 O + 3 O 2 + 2 K O H ” and ” [\n",
    "-2,- 3, 2, 3, 3, 2 ]”, i.e. output string for balanced chemical equation and the vector of stochiometric\n",
    "coefficients with negative values for reactants.\n",
    "HINT: (a) For the above reaction, atomList is ’K’, ’Mn’, ’O’, ’H’\n",
    "(b) chemVectors for ‘ K Mn O 4’ is [1,1,4,0] and ’ K O H ’ is [1,0,1,1]\n",
    "(c) construct matrix equation for chemical equation.\n",
    "1"
   ]
  },
  {
   "cell_type": "code",
   "execution_count": 1,
   "metadata": {},
   "outputs": [],
   "source": [
    "import numpy as np"
   ]
  },
  {
   "cell_type": "code",
   "execution_count": 2,
   "metadata": {},
   "outputs": [],
   "source": [
    "equation = \"K Mn O 4 + H 2 O 2 = Mn O 2 + O 2 + K O H\""
   ]
  },
  {
   "cell_type": "code",
   "execution_count": 3,
   "metadata": {},
   "outputs": [
    {
     "name": "stdout",
     "output_type": "stream",
     "text": [
      "['H' 'K' 'Mn' 'O']\n",
      "[[ 0  2  0  0 -1]\n",
      " [ 1  0  0  0 -1]\n",
      " [ 1  0 -1  0  0]\n",
      " [ 4  2 -2 -2 -1]]\n",
      "[[0.48507125]\n",
      " [0.24253563]\n",
      " [0.48507125]\n",
      " [0.48507125]\n",
      " [0.48507125]]\n"
     ]
    }
   ],
   "source": [
    "import re\n",
    "import numpy as np\n",
    "import scipy.linalg as la\n",
    "\n",
    "def findUniqueElements(equation):\n",
    "    return np.unique(elementName.findall(equation))\n",
    "\n",
    "elementPattern = re.compile(r'[A-Z]{1}[a-z]{0,}[0-9]*')\n",
    "elementName = re.compile(r'[A-Z]{1}[a-z]{0,}')\n",
    "elementNumber = re.compile(r'[0-9]{1,}')\n",
    "\n",
    "def getColumnVector(element, elementVectors): #returns vector containing number of atoms of each element in compound\n",
    "    elementVector = np.zeros(len(elementVectors))\n",
    "    elements = elementPattern.findall(element)\n",
    "    for element in elements:\n",
    "        # print(element)\n",
    "        name = elementName.match(element).group()\n",
    "        number = elementNumber.search(element)\n",
    "        if number:\n",
    "            number = int(number.group())\n",
    "        else:\n",
    "            number = 1\n",
    "        # print(np.where(elementVectors == name)[0][0], number)\n",
    "        elementVector[np.where(elementVectors == name)[0][0]] = number\n",
    "    return elementVector\n",
    "\n",
    "elementVectors = findUniqueElements(equation)\n",
    "print(elementVectors)\n",
    "\n",
    "def getEquationMatrix(equation, elementVectors):\n",
    "    equation = equation.replace(' ', '')\n",
    "    reactants, products = equation.split('=')\n",
    "    reactants = reactants.split('+')\n",
    "    products = products.split('+')\n",
    "\n",
    "    reactantMatrix = np.zeros((len(elementVectors), len(reactants)), dtype=int)\n",
    "    productMatrix = np.zeros((len(elementVectors), len(products)), dtype=int)\n",
    "\n",
    "    for i, reactant in enumerate(reactants):\n",
    "        reactantMatrix[:, i] = getColumnVector(reactant, elementVectors)\n",
    "    for i, product in enumerate(products):\n",
    "        productMatrix[:, i] = getColumnVector(product, elementVectors)\n",
    "    \n",
    "    productMatrix *= -1  # Multiply product matrix by -1\n",
    "\n",
    "    # Join reactant and product matrices\n",
    "    equationMatrix = np.hstack((reactantMatrix, productMatrix))\n",
    "\n",
    "    return equationMatrix\n",
    "\n",
    "equationMatrix = getEquationMatrix(equation, elementVectors)\n",
    "print(equationMatrix)\n",
    "\n",
    "nullspace_basis = la.null_space(equationMatrix)\n",
    "print(nullspace_basis)\n",
    "\n",
    "def getBalancedEquation(equation, elementVectors, nullspace_basis):\n",
    "    equation = equation.replace(' ', '')\n",
    "    reactants, products = equation.split('=')\n",
    "    reactants = reactants.split('+')\n",
    "    products = products.split('+')\n",
    "\n",
    "    coefficients = np.round(nullspace_basis / nullspace_basis[0])\n",
    "    coefficients = coefficients.astype(int)\n",
    "\n",
    "    reactantCoefficients = coefficients[:len(reactants)]\n",
    "    productCoefficients = coefficients[len(reactants):]\n",
    "\n",
    "    balancedEquation = ''\n",
    "    for i, reactant in enumerate(reactants):\n",
    "        balancedEquation += str(reactantCoefficients[i][0]) + reactant + ' + '\n",
    "    balancedEquation = balancedEquation[:-3] + ' = '\n",
    "    for i, product in enumerate(products):\n",
    "        balancedEquation += str(productCoefficients[i][0]) + product + ' + '\n",
    "\n",
    "    return balancedEquation[:-3]\n",
    "\n"
   ]
  }
 ],
 "metadata": {
  "kernelspec": {
   "display_name": ".venv",
   "language": "python",
   "name": "python3"
  },
  "language_info": {
   "codemirror_mode": {
    "name": "ipython",
    "version": 3
   },
   "file_extension": ".py",
   "mimetype": "text/x-python",
   "name": "python",
   "nbconvert_exporter": "python",
   "pygments_lexer": "ipython3",
   "version": "3.12.2"
  }
 },
 "nbformat": 4,
 "nbformat_minor": 2
}
