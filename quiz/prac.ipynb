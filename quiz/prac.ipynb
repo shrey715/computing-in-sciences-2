{
 "cells": [
  {
   "cell_type": "markdown",
   "metadata": {},
   "source": [
    "Given input , return the balanced equation.\n",
    "Eample input string: ” K Mn O 4 + H 2 O 2 = Mn O 2 + H 2 O + O 2 + K O H ”. Assume input\n",
    "has spaces separating every element name and numbers as shown, also for ‘+’ and ‘=’.\n",
    "Example output: ” 2 K Mn O 4 + 3 H 2 O 2 = 2 Mn O 2 + 2 H 2 O + 3 O 2 + 2 K O H ” and ” [\n",
    "-2,- 3, 2, 3, 3, 2 ]”, i.e. output string for balanced chemical equation and the vector of stochiometric\n",
    "coefficients with negative values for reactants.\n",
    "HINT: (a) For the above reaction, atomList is ’K’, ’Mn’, ’O’, ’H’\n",
    "(b) chemVectors for ‘ K Mn O 4’ is [1,1,4,0] and ’ K O H ’ is [1,0,1,1]\n",
    "(c) construct matrix equation for chemical equation.\n",
    "1"
   ]
  },
  {
   "cell_type": "code",
   "execution_count": 1,
   "metadata": {},
   "outputs": [],
   "source": [
    "import numpy as np"
   ]
  },
  {
   "cell_type": "code",
   "execution_count": 14,
   "metadata": {},
   "outputs": [],
   "source": [
    "equation = \"K Mn O 4 + H 2 O 2 = Mn O 2 + O 2 + H 2 O + K O H\""
   ]
  },
  {
   "cell_type": "code",
   "execution_count": 16,
   "metadata": {},
   "outputs": [
    {
     "name": "stderr",
     "output_type": "stream",
     "text": [
      "<>:43: SyntaxWarning: invalid escape sequence '\\('\n",
      "<>:46: SyntaxWarning: invalid escape sequence '\\)'\n",
      "<>:51: SyntaxWarning: invalid escape sequence '\\['\n",
      "<>:43: SyntaxWarning: invalid escape sequence '\\('\n",
      "<>:46: SyntaxWarning: invalid escape sequence '\\)'\n",
      "<>:51: SyntaxWarning: invalid escape sequence '\\['\n",
      "/tmp/ipykernel_186044/2833438180.py:43: SyntaxWarning: invalid escape sequence '\\('\n",
      "  segments = re.split('(\\([A-Za-z0-9]*\\)[0-9]*)', compound)\n",
      "/tmp/ipykernel_186044/2833438180.py:46: SyntaxWarning: invalid escape sequence '\\)'\n",
      "  segment = re.split('\\)([0-9]*)', segment)\n",
      "/tmp/ipykernel_186044/2833438180.py:51: SyntaxWarning: invalid escape sequence '\\['\n",
      "  findElements(re.sub('(\\[|\\])', '', segment), index, multiplier, side)\n"
     ]
    },
    {
     "name": "stdout",
     "output_type": "stream",
     "text": [
      "Please input your reactants. This is case sensitive.\n",
      "Your input should look like: H2 + O2\n"
     ]
    },
    {
     "name": "stdout",
     "output_type": "stream",
     "text": [
      "Please input your products. This is case sensitive.\n",
      "Your input should look like: H2O\n",
      "2KMO4 + 1H2O2 -> 2MO2 + 2KOH + 2O2 + 0H2O\n"
     ]
    }
   ],
   "source": [
    "import re\n",
    "from sympy import Matrix, lcm\n",
    "\n",
    "elementList = []\n",
    "elementMatrix = []\n",
    "\n",
    "if not equation:\n",
    "    equation = input(\"Enter the equation: \")\n",
    "    \n",
    "equation = equation.replace(\" \", \"\")\n",
    "reactants, products = equation.split(\"=\")\n",
    "\n",
    "def parseFormula(formula):\n",
    "    elementList = re.findall(r\"\")"
   ]
  }
 ],
 "metadata": {
  "kernelspec": {
   "display_name": ".venv",
   "language": "python",
   "name": "python3"
  },
  "language_info": {
   "codemirror_mode": {
    "name": "ipython",
    "version": 3
   },
   "file_extension": ".py",
   "mimetype": "text/x-python",
   "name": "python",
   "nbconvert_exporter": "python",
   "pygments_lexer": "ipython3",
   "version": "3.12.2"
  }
 },
 "nbformat": 4,
 "nbformat_minor": 2
}
