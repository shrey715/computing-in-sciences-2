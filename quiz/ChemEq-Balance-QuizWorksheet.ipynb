{
 "cells": [
  {
   "cell_type": "markdown",
   "metadata": {},
   "source": [
    "# Solve a given chemical equation"
   ]
  },
  {
   "cell_type": "markdown",
   "metadata": {},
   "source": [
    "## Task-1: Design a input scheme for the user to input a chemical equation that need to be balanced.\n",
    "\n"
   ]
  },
  {
   "cell_type": "code",
   "execution_count": 1,
   "metadata": {},
   "outputs": [],
   "source": [
    "import re"
   ]
  },
  {
   "cell_type": "code",
   "execution_count": 2,
   "metadata": {},
   "outputs": [],
   "source": [
    "string=\"H 2 + O 2 = H 2 O\""
   ]
  },
  {
   "cell_type": "code",
   "execution_count": 5,
   "metadata": {},
   "outputs": [
    {
     "name": "stdout",
     "output_type": "stream",
     "text": [
      "{'O', 'H'}\n"
     ]
    }
   ],
   "source": [
    "atomList = set(re.split('[ 0-9+=]+',string))\n",
    "print(atomList)"
   ]
  },
  {
   "cell_type": "code",
   "execution_count": 7,
   "metadata": {},
   "outputs": [
    {
     "name": "stdout",
     "output_type": "stream",
     "text": [
      "H 2 + O 2 \n",
      " H 2 O\n"
     ]
    }
   ],
   "source": [
    "#[reactants, products] = (string.split(sep=\"=\"))\n",
    "[reactants, products] = (re.split('=',string))\n",
    "print(reactants)\n",
    "print(products)"
   ]
  },
  {
   "cell_type": "code",
   "execution_count": 8,
   "metadata": {},
   "outputs": [
    {
     "name": "stdout",
     "output_type": "stream",
     "text": [
      "['H 2 ', ' O 2 ']     [' H 2 O']\n"
     ]
    }
   ],
   "source": [
    "react_list= reactants.split(sep=\"+\")\n",
    "prod_list = products.split(sep=\"+\")\n",
    "print(str(react_list),\"   \",str(prod_list))"
   ]
  },
  {
   "cell_type": "code",
   "execution_count": 9,
   "metadata": {},
   "outputs": [
    {
     "name": "stdout",
     "output_type": "stream",
     "text": [
      "['H', '2', 'O']\n"
     ]
    }
   ],
   "source": [
    "for chem in prod_list:\n",
    "    c=list(filter(None,(re.split(' ',chem))))\n",
    "    print(c)"
   ]
  },
  {
   "cell_type": "markdown",
   "metadata": {},
   "source": [
    "# TASK 1a: Write a function that will take one chemical (reactant or product) and return chemical_composition_vector\n",
    "\n",
    "Consider reaction ' H 2 + O 2 = H 2 O '\n",
    "- set atomList is {'O','H'}\n",
    "- For ' H 2 ', vector is [0, 2]\n",
    "- For ' O 2 ', vector is [2, 0]\n",
    "- For 'H 2 O', vector is [-1, -2] (minus sign because of H2O being product"
   ]
  },
  {
   "cell_type": "code",
   "execution_count": 56,
   "metadata": {},
   "outputs": [
    {
     "name": "stdout",
     "output_type": "stream",
     "text": [
      "Populating the interactive namespace from numpy and matplotlib\n"
     ]
    }
   ],
   "source": [
    "%pylab inline"
   ]
  },
  {
   "cell_type": "code",
   "execution_count": null,
   "metadata": {},
   "outputs": [],
   "source": [
    "def get_chemicalVector(chemical, atomList):\n",
    "    print('chemical is', chemical)\n",
    "    c = list(filter(None,(re.split(' ',chemical))))\n",
    "    c_size = len(c)\n",
    "    c_idx = 0\n",
    "    c_dict = {}\n",
    "    print('c= ',c,' c_size=',c_size)\n",
    "    \n",
    "    while c_idx < c_size:\n",
    "        c1 = c[c_idx]\n",
    "        print('atom is: ',c1)\n",
    "        if (c1 in atomList): # check if atom is in the atomList\n",
    "            if ( c_idx  == c_size -1):\n",
    "                num = 1\n",
    "                c_idx += 1\n",
    "            elif  ( c[c_idx +1] in atomList ):\n",
    "                num = 1\n",
    "                c_idx += 1\n",
    "            elif ( (c[c_idx +1 ]).isdigit() ):\n",
    "                num = int( c[c_idx+1])\n",
    "                c_idx += 2\n",
    "            c_dict[c1] = num\n",
    "            print('chemical ',c1, c_dict, 'c_idx=',c_idx)\n",
    "        else:\n",
    "            return \"ERROR\"\n",
    "    \n",
    "    c_vec = np.zeros( (len(atomList),) )\n",
    "    for c1 in c_dict.keys():\n",
    "        c_vec[ atomList.index(c1) ] = c_dict[c1]\n",
    "    print(\"chemical \", chemical,\" c_vec \", c_vec)\n",
    "    return c_vec\n",
    "            "
   ]
  },
  {
   "cell_type": "code",
   "execution_count": 109,
   "metadata": {},
   "outputs": [
    {
     "name": "stdout",
     "output_type": "stream",
     "text": [
      "chemical is H 2 S O 4\n",
      "c=  ['H', '2', 'S', 'O', '4']  c_size= 5\n",
      "atom is:  H\n",
      "chemical  H {'H': 2} c_idx= 2\n",
      "atom is:  S\n",
      "chemical  S {'H': 2, 'S': 1} c_idx= 3\n",
      "atom is:  O\n",
      "chemical  O {'H': 2, 'S': 1, 'O': 4} c_idx= 5\n",
      "chemical  H 2 S O 4  c_vec  [2. 1. 4.]\n"
     ]
    },
    {
     "data": {
      "text/plain": [
       "array([2., 1., 4.])"
      ]
     },
     "execution_count": 109,
     "metadata": {},
     "output_type": "execute_result"
    }
   ],
   "source": [
    "get_chemicalVector('H 2 S O 4',['H','S','O'])"
   ]
  },
  {
   "cell_type": "markdown",
   "metadata": {},
   "source": [
    "## Task-2: From the input, get into a form that is suitable for mathematical manipulations\n",
    "\n",
    "\n",
    "\n",
    "1. Lets say that you have atom types $A_1, A_2, \\cdots A_N$. \n",
    "2. Write each chemical component as a $N$ dimensional vector \n",
    "3. Suppose the balanced the chemical reaction is where $R_i$ are reactants and $P_i$ are products, and we require that $r_i$ and $p_i$ be integers... \n",
    "$$ r_1 R_1 + r_2 R_2 +\\cdots - (p_1 P_1 + p_1 P_2 ) = 0$$ \n",
    "3. Set up a system of $N$ simulatneous equations, and solve for it to get $r_i$ and $p_i$\n",
    "4. What are the conditions under which there is NO solution? "
   ]
  },
  {
   "cell_type": "code",
   "execution_count": 124,
   "metadata": {},
   "outputs": [],
   "source": [
    "rxn2 = ' H 2 O + S O 2 + O 2 = H 2 S O 4 '"
   ]
  },
  {
   "cell_type": "code",
   "execution_count": 125,
   "metadata": {},
   "outputs": [
    {
     "name": "stdout",
     "output_type": "stream",
     "text": [
      "atomList =  ['S', 'O', 'H']\n"
     ]
    }
   ],
   "source": [
    "atomList = list(set(filter(None,re.split('[ 0-9+=]+',rxn2))))\n",
    "print('atomList = ',atomList)"
   ]
  },
  {
   "cell_type": "code",
   "execution_count": 126,
   "metadata": {},
   "outputs": [
    {
     "name": "stdout",
     "output_type": "stream",
     "text": [
      " H 2 O + S O 2 + O 2 \n",
      " H 2 S O 4 \n"
     ]
    }
   ],
   "source": [
    "#[reactants, products] = (string.split(sep=\"=\"))\n",
    "[reactants, products] = (re.split('=',rxn2))\n",
    "print(reactants)\n",
    "print(products)"
   ]
  },
  {
   "cell_type": "code",
   "execution_count": 127,
   "metadata": {},
   "outputs": [
    {
     "name": "stdout",
     "output_type": "stream",
     "text": [
      "[' H 2 O ', ' S O 2 ', ' O 2 ']     [' H 2 S O 4 ']\n"
     ]
    }
   ],
   "source": [
    "react_list= reactants.split(sep=\"+\")\n",
    "prod_list = products.split(sep=\"+\")\n",
    "print(str(react_list),\"   \",str(prod_list))"
   ]
  },
  {
   "cell_type": "code",
   "execution_count": 99,
   "metadata": {},
   "outputs": [
    {
     "name": "stdout",
     "output_type": "stream",
     "text": [
      "chemical is  H 2 S O 4 \n",
      "c=  ['H', '2', 'S', 'O', '4']  c_size= 5\n",
      "atom is:  H\n",
      "chemical  H {'H': 2} c_idx= 2\n",
      "atom is:  S\n",
      "chemical  S {'H': 2, 'S': 1} c_idx= 3\n",
      "atom is:  O\n",
      "chemical  O {'H': 2, 'S': 1, 'O': 4} c_idx= 5\n",
      "chemical   H 2 S O 4   c_vec  [1. 4. 2.]\n",
      "['S', 'O', 'H']\n"
     ]
    }
   ],
   "source": [
    "get_chemicalVector(prod_list[0],atomList)\n",
    "print(atomList)"
   ]
  },
  {
   "cell_type": "markdown",
   "metadata": {},
   "source": [
    "## Task-3: Using the solution above, output the balanced equation"
   ]
  },
  {
   "cell_type": "code",
   "execution_count": null,
   "metadata": {},
   "outputs": [],
   "source": []
  },
  {
   "cell_type": "markdown",
   "metadata": {},
   "source": [
    "## Task-4: If the above is working, can you wrap the whole program in a single function, which will take the input and give the proper output?\n",
    "\n",
    "Given the string 'eqn', the output of the function that you will write, called BalanceChemicalEquation(eqn), will be the balanced chemical equation or a proper error"
   ]
  },
  {
   "cell_type": "code",
   "execution_count": null,
   "metadata": {},
   "outputs": [],
   "source": []
  }
 ],
 "metadata": {
  "kernelspec": {
   "display_name": "Python 3",
   "language": "python",
   "name": "python3"
  },
  "language_info": {
   "codemirror_mode": {
    "name": "ipython",
    "version": 3
   },
   "file_extension": ".py",
   "mimetype": "text/x-python",
   "name": "python",
   "nbconvert_exporter": "python",
   "pygments_lexer": "ipython3",
   "version": "3.8.10"
  }
 },
 "nbformat": 4,
 "nbformat_minor": 2
}
