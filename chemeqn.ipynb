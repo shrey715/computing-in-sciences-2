{
 "cells": [
  {
   "cell_type": "code",
   "execution_count": 33,
   "metadata": {},
   "outputs": [],
   "source": [
    "import numpy as np\n",
    "import re\n",
    "import scipy.linalg as la"
   ]
  },
  {
   "cell_type": "code",
   "execution_count": 34,
   "metadata": {},
   "outputs": [
    {
     "name": "stdout",
     "output_type": "stream",
     "text": [
      "['H2 ' ' O2 ']\n",
      "[' H2 O']\n"
     ]
    }
   ],
   "source": [
    "chemical_string = \"H2 + O2 -> H2 O\" #the element n its number r together, then space\n",
    "\n",
    "#extract chemical elements as basis vectors\n",
    "products, reactants = chemical_string.split('->')\n",
    "products = products.split('+')\n",
    "reactants = reactants.split('+')\n",
    "\n",
    "products = np.array(products)\n",
    "reactants = np.array(reactants)\n",
    "\n",
    "print(products)\n",
    "print(reactants)"
   ]
  },
  {
   "cell_type": "code",
   "execution_count": 35,
   "metadata": {},
   "outputs": [
    {
     "name": "stdout",
     "output_type": "stream",
     "text": [
      "['H2 ' ' O2 ']\n",
      "[' H2 O']\n"
     ]
    }
   ],
   "source": [
    "elementPattern = re.compile(r'[A-Z]{1}[a-z]{0,}[0-9]*')\n",
    "elementName = re.compile(r'[A-Z]{1}[a-z]{0,}')\n",
    "elementNumber = re.compile(r'[0-9]{1,}')\n",
    "\n",
    "def getElementVectors(chemical_string):\n",
    "    elements = elementPattern.findall(chemical_string)\n",
    "    elements = [elementName.match(element).group() for element in elements]\n",
    "    elements = np.unique(elements)\n",
    "    return elements\n",
    "\n",
    "def getMoleculeVector(element, elementVectors): #returns vector containing number of atoms of each element in compound\n",
    "    elementVector = np.zeros(len(elementVectors))\n",
    "    elements = elementPattern.findall(element)\n",
    "    for element in elements:\n",
    "        name = elementName.match(element).group()\n",
    "        number = elementNumber.search(element)\n",
    "        if number:\n",
    "            number = int(number.group())\n",
    "        else:\n",
    "            number = 1\n",
    "        elementVector[np.where(elementVectors == name)[0][0]] = number\n",
    "    return elementVector        \n",
    "\n",
    "# elements = getElementVectors(chemical_string)\n",
    "# products = getMoleculeVector(products, elements)\n",
    "# reactants = getMoleculeVector(reactants, elements)\n",
    "\n",
    "print(products)\n",
    "print(reactants)"
   ]
  },
  {
   "cell_type": "code",
   "execution_count": 49,
   "metadata": {},
   "outputs": [
    {
     "name": "stdout",
     "output_type": "stream",
     "text": [
      "[[ 2  0]\n",
      " [ 0  2]\n",
      " [-2 -1]]\n",
      "[[2. 1. 2.]]\n",
      "[array([[ 4.,  0.],\n",
      "       [ 0.,  4.],\n",
      "       [-4., -2.]]), array([[ 2.,  0.],\n",
      "       [ 0.,  2.],\n",
      "       [-2., -1.]]), array([[ 4.,  0.],\n",
      "       [ 0.,  4.],\n",
      "       [-4., -2.]])]\n"
     ]
    }
   ],
   "source": [
    "elements = np.array(['H', 'O'])\n",
    "\n",
    "h2 = np.array([2,0])\n",
    "o2 = np.array([0,2])\n",
    "h2o = np.array([2,1])\n",
    "\n",
    "A = np.array([h2, o2, -h2o])\n",
    "A = A.T\n",
    "\n",
    "nullspace = la.null_space(A)\n",
    "minimum = np.min(nullspace)\n",
    "nullspace = nullspace/minimum\n",
    "nullspace = np.reshape(nullspace, (1,nullspace.shape[0]))\n",
    "\n",
    "print(A.T)\n",
    "print(nullspace)\n",
    "\n",
    "A = A.T\n",
    "\n",
    "\n",
    "resultant_A = \n",
    "\n",
    "print(resultant_A)"
   ]
  }
 ],
 "metadata": {
  "kernelspec": {
   "display_name": ".venv",
   "language": "python",
   "name": "python3"
  },
  "language_info": {
   "codemirror_mode": {
    "name": "ipython",
    "version": 3
   },
   "file_extension": ".py",
   "mimetype": "text/x-python",
   "name": "python",
   "nbconvert_exporter": "python",
   "pygments_lexer": "ipython3",
   "version": "3.12.2"
  }
 },
 "nbformat": 4,
 "nbformat_minor": 2
}
